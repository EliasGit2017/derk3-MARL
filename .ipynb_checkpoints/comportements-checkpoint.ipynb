{
 "cells": [
  {
   "cell_type": "markdown",
   "metadata": {},
   "source": [
    "# Stratégie offensive : visualisation des comportements et résultats"
   ]
  },
  {
   "cell_type": "code",
   "execution_count": 4,
   "metadata": {},
   "outputs": [
    {
     "data": {
      "text/html": [
       "<video alt=\"test\" controls>\n",
       "<source src=\"tensorboard_data_plots/offensive_run_obj.mp4\" type=\"video/mp4\">\n",
       "</video>\n"
      ],
      "text/plain": [
       "<IPython.core.display.HTML object>"
      ]
     },
     "metadata": {},
     "output_type": "display_data"
    }
   ],
   "source": [
    "%%HTML\n",
    "<video alt=\"test\" controls>\n",
    "<source src=\"tensorboard_data_plots/offensive_run_obj.mp4\" type=\"video/mp4\">\n",
    "</video>"
   ]
  },
  {
   "cell_type": "markdown",
   "metadata": {},
   "source": [
    "### Observation des comportements obtenus :\n",
    "Ces observations sont réalisés à partir du moment où la `value_loss` est considérée comme relativement stabilisée.\n",
    "A ce niveau, les agents savent en général qu'ils ne doivent pas tomber (en début et en fin de partie), ne pas s'attaquer entre eux, ne pas attaquer leur statue, ne pas soigner un ennemi ni la statue ennemie.Il savent aussi si leur arme est de type corps à corps ou à distance.\n",
    "Les comportements décrits ont été observés à plusieurs reprises lors des phases de test effectuées.\n",
    "#### **Comportement 1** :\n",
    "Tous les agents vont attaquer la statue ennemie et vont augmenter leur récompense en attaquant les agents adverses sur le chemin et au moment où les deux équipes se croisent.\n",
    "Une fois que la statue est détruite les agents se protègent en restant dans la base ennemie et reculent légèrement (sans tomber comme cela a été observé plus tôt lors de l'apprentissage en fin de partie).\n",
    "#### **Comportement 2** :\n",
    "Les agents vont similairement au comportements 1 aller attaquer la structure ennemie et augmenter leur reward sur le chemin en attaquant les ennemis. Mais en fin de partie, 1, 2 ou 3 agents vont retourner sur leur base, attaquer les ennemis pour marquer des points et essayer de défendre leur statue si elle est toujours debout.  \n",
    "\n",
    "<u>**La différence entre ces deux comportements peut parfois s'expliquer par le fait que les agents n'ont pas l'observation des ennemis en train d'attaquer leur base une fois la destruction de la statue ennemie réalisée.**</u>\n",
    "  \n",
    "#### **Comportement avec Armes inoffensives** :\n",
    "Dans le cas où tous les agents d'une équipe n'ont pas d'armes offensives, ils se dirigent vers la base ennemi pour essayer de l'attaquer sans succès.\n",
    "Ils sont alors à la merci des agents ennemis qui peuvent revenir marquer des points en les éliminant. Aucun comportement de protection (offrir un bouclier à un allié par exemple) n'a été observé à ce niveau. Aucune tentative de défendre sa base en début de partie n'est observée ce qui est logique au vu des paramètres de la fonction de récompense choisis. "
   ]
  },
  {
   "cell_type": "markdown",
   "metadata": {},
   "source": [
    "# Stratégie défensive : visualisation des comportements et résultats"
   ]
  },
  {
   "cell_type": "code",
   "execution_count": 5,
   "metadata": {},
   "outputs": [
    {
     "data": {
      "text/html": [
       "<video alt=\"test\" controls>\n",
       "    <source src=\"tensorboard_data_plots/defensive.mp4\" type=\"video/mp4\">\n",
       "</video>\n"
      ],
      "text/plain": [
       "<IPython.core.display.HTML object>"
      ]
     },
     "metadata": {},
     "output_type": "display_data"
    }
   ],
   "source": [
    "%%HTML\n",
    "<video alt=\"test\" controls>\n",
    "    <source src=\"tensorboard_data_plots/defensive.mp4\" type=\"video/mp4\">\n",
    "</video>"
   ]
  },
  {
   "cell_type": "markdown",
   "metadata": {},
   "source": [
    "### Observation des comportements obtenus :\n",
    "Les comportements décrits ont été observés à plusieurs reprises lors des phases de test effectuées.\n",
    "A ce niveau, les comportements auto-destructeurs des agents sont rares mais non inexistants contrairement à la stratégie offensive.\n",
    "<u>**Une différence notable observée ici et contrairement à la stratégie offensive est que les agents agissent différemment en fonction de la nature de leur arme. Si elle permet d'infliger des dégâts, ils vont aller dans la base ennemie marquer des points en attaquant la statue tandis que les agents qui ne peuvent pas faire de dégâts restent dans leur base.**</u>\n",
    "#### **Comportement 1** :\n",
    "Les agents restent près de leur statue sans attaquer directement les adversaires. Ils augmentent de ce fait le nombre de points d'intérêt des attaquants pour potentiellement les 'déconcentrer'. S'ils le peuvent, ils soignent leur statue et leurs alliés pour augmenter leur reward. Ils n'empêchent pas la destruction de leur statue si les ennemis sont correctement équipés. \n",
    "#### **Comportement 2** :\n",
    "Les agents qui peuvent attaquer (sont équipés d'une arme offensive) vont aller essayer de détruire la statue ennemie tandis que ceux qui ne le peuvent pas restent à domicile augmentant ainsi le nombre de POI pour les ennemis. Une fois la statue détruite, ils attaquent les ennemis pour essayer de marquer des points."
   ]
  }
 ],
 "metadata": {
  "kernelspec": {
   "display_name": "Python 3 (ipykernel)",
   "language": "python",
   "name": "python3"
  },
  "language_info": {
   "codemirror_mode": {
    "name": "ipython",
    "version": 3
   },
   "file_extension": ".py",
   "mimetype": "text/x-python",
   "name": "python",
   "nbconvert_exporter": "python",
   "pygments_lexer": "ipython3",
   "version": "3.9.15"
  },
  "vscode": {
   "interpreter": {
    "hash": "f60df7b9460f8f28b80e4d43bc192d022052bd49d23c12c6110597f67f054ea7"
   }
  }
 },
 "nbformat": 4,
 "nbformat_minor": 4
}
